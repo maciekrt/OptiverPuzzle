{
 "cells": [
  {
   "cell_type": "code",
   "execution_count": 152,
   "id": "immune-silence",
   "metadata": {},
   "outputs": [],
   "source": [
    "import numpy as np\n",
    "import random\n",
    "import matplotlib.pyplot as plt\n",
    "from tqdm import tqdm"
   ]
  },
  {
   "cell_type": "markdown",
   "id": "protective-prevention",
   "metadata": {},
   "source": [
    "Let us first set the precision level for our floating point operations."
   ]
  },
  {
   "cell_type": "code",
   "execution_count": 153,
   "id": "formal-stress",
   "metadata": {},
   "outputs": [],
   "source": [
    "eps = 1e-6"
   ]
  },
  {
   "cell_type": "markdown",
   "id": "south-framework",
   "metadata": {},
   "source": [
    "The following is a function to assess the success probability of player **idx_player** given the players' choices were **nums** and **C** is the discretization parameter."
   ]
  },
  {
   "cell_type": "code",
   "execution_count": 154,
   "id": "vertical-trail",
   "metadata": {},
   "outputs": [],
   "source": [
    "def grade_position(nums, idx_player, C):\n",
    "    N = len(nums)\n",
    "    if N == 1:\n",
    "        return C\n",
    "    nums_sorted = sorted(nums)\n",
    "    idx = nums_sorted.index(nums[idx_player])\n",
    "    if idx == 0:\n",
    "        return (nums_sorted[0] + nums_sorted[1])/2\n",
    "    elif idx == N-1:\n",
    "        return C - (nums_sorted[-1] + nums_sorted[-2])/2\n",
    "    else:\n",
    "        return (nums_sorted[idx+1] - nums_sorted[idx-1])/2 "
   ]
  },
  {
   "cell_type": "code",
   "execution_count": 155,
   "id": "nominated-tribe",
   "metadata": {},
   "outputs": [],
   "source": [
    "# Just an auxiliary function to make a one level flattening of a list\n",
    "def my_flatten(l):\n",
    "    return [item for sublist in l for item in sublist]"
   ]
  },
  {
   "cell_type": "markdown",
   "id": "creative-ceramic",
   "metadata": {},
   "source": [
    "That's the recursive function to find the distribution of optimal moves for player **i** given that **N** players are playing and until now moves **memory** have been performed. Again **C** is the discretization parameter. \n",
    "The variable **history** is used to store the history of possible success probabilities for different moves of the first player. It is used for visualization purposes (see below)."
   ]
  },
  {
   "cell_type": "code",
   "execution_count": 156,
   "id": "medium-detroit",
   "metadata": {},
   "outputs": [],
   "source": [
    "def searchRec(N, i, C, memory, history):\n",
    "    # All players have already made a move \n",
    "    if i==N:\n",
    "        return [([],1.0)], 0\n",
    "\n",
    "    # Still there's moves to make\n",
    "    # Here are the possible moves for player i\n",
    "    possible_choices = [elem for elem in range(0,C+1) if elem not in memory]\n",
    "    # Be verbose if i==0\n",
    "    if i == 0:\n",
    "        possible_choices = tqdm(possible_choices)\n",
    "    solutions_current = []\n",
    "    val_current = -1\n",
    "    for elem in possible_choices:\n",
    "        memory.append(elem)\n",
    "        # Compute the value for next players if ith player plays elem\n",
    "        solutions_next, _ = searchRec(N, i+1, C, memory, history)\n",
    "        # What's the success probability then?\n",
    "        val_elem = sum([p*grade_position(memory + solution[::-1], i, C) for solution, p in solutions_next])\n",
    "        if i==0:\n",
    "            history.append(val_elem/C)\n",
    "        # Update the current candidate for the final result\n",
    "        # Be careful with floating point operations\n",
    "        if val_elem > val_current + eps:\n",
    "            val_current = val_elem\n",
    "            for l, p in solutions_next:\n",
    "                l.append(elem)\n",
    "            solutions_current = [solutions_next]\n",
    "        # Careful again:)\n",
    "        elif abs(val_elem - val_current)<eps:\n",
    "            for l, p in solutions_next:\n",
    "                l.append(elem)\n",
    "            solutions_current.append(solutions_next)\n",
    "        memory.pop()\n",
    "    # divide the probabilities\n",
    "    K = len(solutions_current)\n",
    "    solutions_current = my_flatten(solutions_current)\n",
    "    # We need to correct the distributionS for ith player if he has K beneficial choices.\n",
    "    return [(solution, p/K) for solution, p in solutions_current], val_current"
   ]
  },
  {
   "cell_type": "code",
   "execution_count": 157,
   "id": "steady-elizabeth",
   "metadata": {},
   "outputs": [],
   "source": [
    "# Just a wrapper on the above to compute all relevant information for player zero.\n",
    "def getBest(N, C):\n",
    "    memory = []\n",
    "    history = []\n",
    "    list_solutions, val = searchRec(N, 0, C, memory, history)\n",
    "    best_first_temp = set([solution[-1] for solution, p in list_solutions]) \n",
    "    best_first = sorted([elem/C for elem in best_first_temp])\n",
    "    solutions = [[elem/C for elem in l[::-1]] for l, _ in list_solutions]\n",
    "    return (best_first, val/C, solutions, history)"
   ]
  },
  {
   "cell_type": "code",
   "execution_count": 158,
   "id": "incorporated-things",
   "metadata": {},
   "outputs": [],
   "source": [
    "num_players = 4\n",
    "C = 100"
   ]
  },
  {
   "cell_type": "code",
   "execution_count": 162,
   "id": "alpine-gallery",
   "metadata": {},
   "outputs": [
    {
     "name": "stderr",
     "output_type": "stream",
     "text": [
      "100%|██████████| 101/101 [02:29<00:00,  1.48s/it]"
     ]
    },
    {
     "name": "stdout",
     "output_type": "stream",
     "text": [
      "CPU times: user 2min 29s, sys: 342 ms, total: 2min 29s\n",
      "Wall time: 2min 29s\n"
     ]
    },
    {
     "name": "stderr",
     "output_type": "stream",
     "text": [
      "\n"
     ]
    }
   ],
   "source": [
    "%%time \n",
    "(best_for_first, val, list_solutions, history) = getBest(num_players,C)"
   ]
  },
  {
   "cell_type": "code",
   "execution_count": 163,
   "id": "strong-tokyo",
   "metadata": {},
   "outputs": [
    {
     "name": "stdout",
     "output_type": "stream",
     "text": [
      "Best moves for first player are: [0.17, 0.83]\n",
      "Success probability is then: 0.2925000000000001\n",
      "Some possible game scenarios: [[0.83, 0.17, 0.5, 0.84], [0.17, 0.83, 0.5, 0.33], [0.83, 0.17, 0.5, 0.77], [0.17, 0.83, 0.5, 0.76], [0.17, 0.83, 0.5, 0.54], [0.17, 0.83, 0.5, 0.56], [0.83, 0.17, 0.5, 0.53], [0.17, 0.83, 0.5, 0.59], [0.17, 0.83, 0.5, 0.62], [0.17, 0.83, 0.5, 0.67]]\n"
     ]
    }
   ],
   "source": [
    "print(f\"Best moves for first player are: {best_for_first}\")\n",
    "print(f\"Success probability is then: {val}\")\n",
    "print(f\"Some possible game scenarios: {random.choices(list_solutions,k=min([10, len(list_solutions)]))}\")"
   ]
  },
  {
   "cell_type": "markdown",
   "id": "current-worry",
   "metadata": {},
   "source": [
    "Based on the history computed above we plot the success probabilities for different choices of the first move."
   ]
  },
  {
   "cell_type": "code",
   "execution_count": 164,
   "id": "northern-segment",
   "metadata": {},
   "outputs": [
    {
     "data": {
      "text/plain": [
       "<matplotlib.collections.PathCollection at 0x7ff22862b130>"
      ]
     },
     "execution_count": 164,
     "metadata": {},
     "output_type": "execute_result"
    },
    {
     "data": {
      "image/png": "[encoded data removed]",
      "text/plain": [
       "<Figure size 432x288 with 1 Axes>"
      ]
     },
     "metadata": {
      "needs_background": "light"
     },
     "output_type": "display_data"
    }
   ],
   "source": [
    "plt.scatter(x=np.linspace(0,1.0,C+1),y=history)"
   ]
  }
 ],
 "metadata": {
  "kernelspec": {
   "display_name": "Python 3",
   "language": "python",
   "name": "python3"
  },
  "language_info": {
   "codemirror_mode": {
    "name": "ipython",
    "version": 3
   },
   "file_extension": ".py",
   "mimetype": "text/x-python",
   "name": "python",
   "nbconvert_exporter": "python",
   "pygments_lexer": "ipython3",
   "version": "3.9.1"
  }
 },
 "nbformat": 4,
 "nbformat_minor": 5
}
